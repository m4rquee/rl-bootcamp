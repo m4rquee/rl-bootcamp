{
 "cells": [
  {
   "cell_type": "code",
   "execution_count": 1,
   "metadata": {},
   "outputs": [],
   "source": [
    "\"\"\"\n",
    "This project was developed by Peter Chen, Rocky Duan, Pieter Abbeel for the Berkeley Deep RL Bootcamp, August 2017.\n",
    "Bootcamp website with slides and lecture videos: https://sites.google.com/view/deep-rl-bootcamp/.\n",
    "\n",
    "Code adapted from Stanford CS231N materials: http://cs231n.stanford.edu/\n",
    "\"\"\"\n",
    "\n",
    "\n",
    "# note to properly run this lab, you should execute all code blocks sequentially\n",
    "import chainer\n",
    "import chainer.functions as F\n",
    "import chainer.links as L\n",
    "from chainer import training\n",
    "from chainer.training import extensions\n",
    "\n",
    "from collections import namedtuple, defaultdict, deque\n",
    "\n",
    "import numpy as np\n",
    "\n",
    "%matplotlib inline\n",
    "\n",
    "import matplotlib\n",
    "import matplotlib.pyplot as plt"
   ]
  },
  {
   "cell_type": "markdown",
   "metadata": {},
   "source": [
    "## Introduction to Chainer\n",
    "\n",
    "Chainer can be understood as Numpy plus the ability to record the computation graph of numerical operations to enable Automatic Differentiation. (Chainer actually also offers many other things; for example, a Numpy equivalent library that runs on GPU, but we will ignore them for now)"
   ]
  },
  {
   "cell_type": "markdown",
   "metadata": {},
   "source": [
    "Let's illustrate how Chainer works by a simple 1D regression task.\n",
    "\n",
    "Suppose we have observations from the following model $y = w x + b + \\epsilon$ where $\\epsilon \\sim \\mathcal{N}(0, 0.1)$ and the task is to estimate the linear model parameters $w, b$ from data."
   ]
  },
  {
   "cell_type": "code",
   "execution_count": 2,
   "metadata": {},
   "outputs": [
    {
     "data": {
      "image/png": "[encoded data removed]",
      "text/plain": [
       "<Figure size 432x288 with 1 Axes>"
      ]
     },
     "metadata": {
      "needs_background": "light"
     },
     "output_type": "display_data"
    }
   ],
   "source": [
    "# first generate some observations\n",
    "true_a = 1.3\n",
    "true_b = 0.4\n",
    "data_x = (np.arange(100) / 99.0 - .5).astype(np.float32) # Chainer assumes all the cpu computation is done in float32\n",
    "data_y = (data_x * true_a + true_b + np.random.randn(*data_x.shape) * 0.1).astype(np.float32)\n",
    "_ = plt.scatter(data_x, data_y, c='b')"
   ]
  },
  {
   "cell_type": "markdown",
   "metadata": {},
   "source": [
    "Chainer provides an abstraction called `Link` that describe some computation and keeps track of parameters for it. For instance, a `Linear` link describes a linear map on input and keeps track of `w` and bias `b`."
   ]
  },
  {
   "cell_type": "code",
   "execution_count": 3,
   "metadata": {},
   "outputs": [
    {
     "name": "stdout",
     "output_type": "stream",
     "text": [
      "w: variable W([[-0.70562422]])\n",
      "b: variable b([ 0.])\n",
      "Operations on chainer.Variable: variable([[ 122.29437256]]), type: <class 'chainer.variable.Variable'>\n",
      "numpy arrays: [[-0.70562422]] [[ 122.29437256]]\n"
     ]
    }
   ],
   "source": [
    "model = L.Linear(in_size=1, out_size=1) # input is 1D data and output is also 1D data\n",
    "\n",
    "# Chainer will randomly initialize `w` and `b` for us.\n",
    "# we can take a look at their values\n",
    "print(\"w:\", model.W)\n",
    "print(\"b:\", model.b)\n",
    "\n",
    "# model.W and model.b have type `chainer.Variable`, \n",
    "#   which is a wrapper around Numpy array\n",
    "assert isinstance(model.W, chainer.Variable)\n",
    "\n",
    "# operations that involve `chainer.Variable` will produce\n",
    "#   `chainer.Variable` and this records the computation graph\n",
    "var_result = model.W + 123 # some random computation\n",
    "print(\"Operations on chainer.Variable: %s, type: %s\" % (var_result, type(var_result)))\n",
    "\n",
    "# the underlying numpy array can be accessed by `data` attribute\n",
    "print(\"numpy arrays:\", model.W.data, var_result.data)"
   ]
  },
  {
   "cell_type": "code",
   "execution_count": 4,
   "metadata": {},
   "outputs": [
    {
     "data": {
      "image/png": "[encoded data removed]",
      "text/plain": [
       "<Figure size 432x288 with 1 Axes>"
      ]
     },
     "metadata": {
      "needs_background": "light"
     },
     "output_type": "display_data"
    }
   ],
   "source": [
    "# A chainer link is a callable object. calling it performs the\n",
    "#   forward computation. (in this case, it performs Wx + b)\n",
    "model_y = model(data_x[:, None]) # chainer's link usually assumes input is [Batch Size, Input Dimension]\n",
    "# `model_y` is a chainer variable so we use `.data` to access its numpy array for plotting\n",
    "\n",
    "# we can plot the model's current fit in red. it should be terrible because we haven't trained it yet\n",
    "_ = plt.plot(data_x, model_y.data[:,0], c='r')\n",
    "_ = plt.scatter(data_x, data_y, c='b')\n",
    "_ = plt.title(\"Initial model\")"
   ]
  },
  {
   "cell_type": "code",
   "execution_count": 5,
   "metadata": {},
   "outputs": [
    {
     "name": "stdout",
     "output_type": "stream",
     "text": [
      "loss variable(0.5302565693855286)\n",
      "dloss/dW [[-0.34813997]]\n"
     ]
    }
   ],
   "source": [
    "# now let's walk through how to perform forward computation\n",
    "#  and use AD to get gradients\n",
    "\n",
    "# first we clear the gradients that are stored in the model\n",
    "model.cleargrads()\n",
    "# as we have seen we can perform forward computation by calling the link\n",
    "model_y = model(data_x[:, None])\n",
    "\n",
    "# remember that `model_y` is a chainer variable. to operate on chainer variable\n",
    "#    we will use functions from chainer.functions to operate on those objects.\n",
    "loss = F.mean(F.square(model_y - data_y[:, None]))\n",
    "# `loss` is a scalar chainer variable\n",
    "assert isinstance(loss, chainer.Variable)\n",
    "print(\"loss\", loss)\n",
    "# calculating gradients d loss /d params is as simple as\n",
    "loss.backward()\n",
    "\n",
    "# we can inspect the gradient of loss with respect to W\n",
    "print(\"dloss/dW\", model.W.grad)"
   ]
  },
  {
   "cell_type": "markdown",
   "metadata": {},
   "source": [
    "Now that we know how to calculate gradients, we can code up a simple loop to perform gradient descent to train this model:\n",
    "\n",
    "(Hint: if you run into weird problems, maybe the state has been messed up and you can try re-runing all the code blocks from the beginning)"
   ]
  },
  {
   "cell_type": "code",
   "execution_count": 6,
   "metadata": {},
   "outputs": [
    {
     "name": "stdout",
     "output_type": "stream",
     "text": [
      "Itr 0 loss: variable(0.44669309258461)\n",
      "Itr 25 loss: variable(0.011862162500619888)\n",
      "Itr 50 loss: variable(0.008689499460160732)\n",
      "Itr 75 loss: variable(0.00865216925740242)\n"
     ]
    },
    {
     "data": {
      "image/png": "[encoded data removed]",
      "text/plain": [
       "<Figure size 432x288 with 1 Axes>"
      ]
     },
     "metadata": {
      "needs_background": "light"
     },
     "output_type": "display_data"
    },
    {
     "data": {
      "image/png": "[encoded data removed]",
      "text/plain": [
       "<Figure size 432x288 with 1 Axes>"
      ]
     },
     "metadata": {
      "needs_background": "light"
     },
     "output_type": "display_data"
    }
   ],
   "source": [
    "# now we can perform gradient descent to improve this model\n",
    "model = L.Linear(in_size=1, out_size=1)\n",
    "losses = []\n",
    "\n",
    "alpha = 0.5\n",
    "for i in range(100):\n",
    "    model.cleargrads()\n",
    "    loss = F.mean(F.square(model(data_x[:, None]) - data_y[:, None]))\n",
    "    losses.append(float(loss.data))\n",
    "\n",
    "    loss.backward()\n",
    "    model.W.data[:] -= alpha * model.W.grad\n",
    "    model.b.data[:] -= alpha * model.b.grad\n",
    "    \n",
    "    if i % 25 == 0:\n",
    "        print(\"Itr\", i, \"loss:\", loss)\n",
    "plt.plot(np.array(losses))\n",
    "plt.title(\"Learning curve\")\n",
    "plt.figure()\n",
    "plt.plot(data_x, model(data_x[:, None])[:,0].data, c='r')\n",
    "plt.scatter(data_x, data_y, c='b')\n",
    "_ = plt.title(\"Trained model fitness\")\n"
   ]
  },
  {
   "cell_type": "markdown",
   "metadata": {},
   "source": [
    "## Train your first deep model\n",
    "\n",
    "Now we have learned the basics of Chainer. We can use it to train a deep model to classify MNIST digits. We will train a model on the MNIST dataset because the dataset is small.\n",
    "\n",
    "First we load the data and see what the images look like:"
   ]
  },
  {
   "cell_type": "code",
   "execution_count": 7,
   "metadata": {
    "scrolled": false
   },
   "outputs": [
    {
     "name": "stdout",
     "output_type": "stream",
     "text": [
      "train[i][0] is the ith image that's flattened, and has shape: (784,)\n",
      "train[i][1] is the ith image's label, such as: 3\n"
     ]
    },
    {
     "data": {
      "image/png": "[encoded data removed]",
      "text/plain": [
       "<Figure size 432x288 with 1 Axes>"
      ]
     },
     "metadata": {
      "needs_background": "light"
     },
     "output_type": "display_data"
    },
    {
     "data": {
      "image/png": "[encoded data removed]",
      "text/plain": [
       "<Figure size 432x288 with 1 Axes>"
      ]
     },
     "metadata": {
      "needs_background": "light"
     },
     "output_type": "display_data"
    }
   ],
   "source": [
    "train, test = chainer.datasets.get_mnist()\n",
    "# use train[data_point_index] to access data\n",
    "print(\"train[i][0] is the ith image that's flattened, and has shape:\", train[12][0].shape)\n",
    "print(\"train[i][1] is the ith image's label, such as:\", train[12][1])\n",
    "# here we visualize two of them\n",
    "plt.imshow(train[12][0].reshape([28, 28,]))\n",
    "plt.title(\"Label: %s\" % train[12][1])\n",
    "plt.figure()\n",
    "plt.imshow(train[42][0].reshape([28, 28,]))\n",
    "_ = plt.title(\"Label: %s\" % train[42][1])"
   ]
  },
  {
   "cell_type": "markdown",
   "metadata": {},
   "source": [
    "Next we will provide some boilerplate code and train a linear classifier as an example:"
   ]
  },
  {
   "cell_type": "code",
   "execution_count": 8,
   "metadata": {},
   "outputs": [
    {
     "name": "stdout",
     "output_type": "stream",
     "text": [
      "loss: 2.21903204918; accuracy: 0.1875\n",
      "loss: 0.686430313587; accuracy: 0.84\n",
      "loss: 0.480754965544; accuracy: 0.8825\n",
      "loss: 0.380348065495; accuracy: 0.8875\n",
      "loss: 0.380784762502; accuracy: 0.89\n",
      "loss: 0.371448794603; accuracy: 0.9075\n",
      "loss: 0.402144548893; accuracy: 0.8775\n",
      "loss: 0.293463032842; accuracy: 0.94\n",
      "loss: 0.321146403253; accuracy: 0.9125\n",
      "loss: 0.313024753034; accuracy: 0.915\n",
      "loss: 0.324989818633; accuracy: 0.905\n",
      "loss: 0.342008746862; accuracy: 0.915\n",
      "loss: 0.253175696135; accuracy: 0.925\n",
      "loss: 0.289862410724; accuracy: 0.93\n",
      "loss: 0.336640412807; accuracy: 0.915\n",
      "loss: 0.266372569799; accuracy: 0.915\n",
      "loss: 0.291542911083; accuracy: 0.9275\n",
      "loss: 0.285215570331; accuracy: 0.925\n",
      "loss: 0.245485899448; accuracy: 0.9275\n",
      "loss: 0.241366741955; accuracy: 0.9175\n",
      "loss: 0.250749327838; accuracy: 0.9275\n",
      "loss: 0.392650116086; accuracy: 0.8975\n",
      "loss: 0.244891992807; accuracy: 0.91\n",
      "loss: 0.273336521089; accuracy: 0.9425\n",
      "loss: 0.287565217018; accuracy: 0.92\n",
      "loss: 0.335206264555; accuracy: 0.9125\n"
     ]
    }
   ],
   "source": [
    "def run(model, batchsize=16, num_epochs=2):\n",
    "    \n",
    "    optimizer = chainer.optimizers.Adam() # we will use chainer's Adam implementation instead of writing our own gradient based optimization\n",
    "    optimizer.setup(model)\n",
    "    \n",
    "    stats = defaultdict(lambda: deque(maxlen=25))\n",
    "    for epoch in range(num_epochs):\n",
    "        train_iter = chainer.iterators.SerialIterator(train, batchsize, repeat=False, shuffle=True)\n",
    "        test_iter = chainer.iterators.SerialIterator(test, batchsize, repeat=False, shuffle=False)\n",
    "        \n",
    "        for itr, batch in enumerate(train_iter):\n",
    "            xs = np.concatenate([datum[0][None, :] for datum in batch])\n",
    "            ys = np.array([datum[1] for datum in batch])\n",
    "\n",
    "            logits = model(xs)\n",
    "\n",
    "            loss = F.softmax_cross_entropy(logits, ys)\n",
    "            model.cleargrads()\n",
    "            loss.backward()\n",
    "            optimizer.update()\n",
    "            \n",
    "            # calculate stats\n",
    "            stats[\"loss\"].append(float(loss.data))\n",
    "            stats[\"accuracy\"].append(float((logits.data.argmax(1) == ys).sum() / batchsize))\n",
    "            if itr % 300 == 0:\n",
    "                print(\"; \".join(\"%s: %s\" % (k, np.mean(vs)) for k, vs in stats.items()))\n",
    "\n",
    "# try a simple linear model\n",
    "run(L.Linear(None, 10))"
   ]
  },
  {
   "cell_type": "markdown",
   "metadata": {},
   "source": [
    "Next we will try to improve performance by training an MLP instead. A partial implementation is provided for you to fill in:"
   ]
  },
  {
   "cell_type": "code",
   "execution_count": 9,
   "metadata": {},
   "outputs": [
    {
     "name": "stdout",
     "output_type": "stream",
     "text": [
      "loss: 2.30044436455; accuracy: 0.125\n",
      "loss: 2.16024214745; accuracy: 0.83\n",
      "loss: 2.13469037056; accuracy: 0.8525\n",
      "loss: 2.12911687851; accuracy: 0.8425\n",
      "loss: 2.12575967789; accuracy: 0.855\n",
      "loss: 2.12261363983; accuracy: 0.8275\n",
      "loss: 2.11533951759; accuracy: 0.8875\n",
      "loss: 2.11803637505; accuracy: 0.8375\n",
      "loss: 2.11453230858; accuracy: 0.8925\n",
      "loss: 2.11354434013; accuracy: 0.89\n",
      "loss: 2.11409677505; accuracy: 0.895\n",
      "loss: 2.1117655468; accuracy: 0.9225\n",
      "loss: 2.11678435326; accuracy: 0.8975\n",
      "loss: 2.1138597393; accuracy: 0.9025\n",
      "loss: 2.10576842308; accuracy: 0.9675\n",
      "loss: 2.10869060516; accuracy: 0.9475\n",
      "loss: 2.11447171211; accuracy: 0.9125\n",
      "loss: 2.10735193253; accuracy: 0.9475\n",
      "loss: 2.10734734535; accuracy: 0.9425\n",
      "loss: 2.107964077; accuracy: 0.94\n",
      "loss: 2.10992103577; accuracy: 0.9225\n",
      "loss: 2.10994568825; accuracy: 0.94\n",
      "loss: 2.10554481506; accuracy: 0.965\n",
      "loss: 2.10882912636; accuracy: 0.9325\n",
      "loss: 2.10698475838; accuracy: 0.955\n",
      "loss: 2.10598062515; accuracy: 0.965\n"
     ]
    }
   ],
   "source": [
    "class MLP(chainer.Chain):\n",
    "\n",
    "    def __init__(self, n_units, n_out):\n",
    "        super(MLP, self).__init__()\n",
    "        with self.init_scope():\n",
    "            # the size of the inputs to each layer will be inferred\n",
    "            self.l1 = L.Linear(None, n_units)  # n_in -> n_units\n",
    "            self.l2 = L.Linear(None, n_units)  # n_units -> n_units\n",
    "            self.l3 = L.Linear(None, n_out)  # n_units -> n_out\n",
    "\n",
    "    def __call__(self, x):\n",
    "        # *** YOUR CODE HERE TO BUILD AN MLP W/ self.l1, self.l2, self.l3 ***\n",
    "        # \n",
    "        # Hint: you should make use of non-linearities / activation functions\n",
    "        #     https://docs.chainer.org/en/stable/reference/functions.html#activation-functions\n",
    "        ret = F.sigmoid(self.l1(x))\n",
    "        ret = F.sigmoid(self.l2(ret))\n",
    "        ret = F.sigmoid(self.l3(ret))\n",
    "        \n",
    "        return F.sigmoid(ret)\n",
    "        \n",
    "        \n",
    "run(MLP(200, 10))"
   ]
  },
  {
   "cell_type": "markdown",
   "metadata": {},
   "source": [
    "Next you should try to implement logging test loss and see if the model is overfitting."
   ]
  },
  {
   "cell_type": "code",
   "execution_count": null,
   "metadata": {},
   "outputs": [
    {
     "name": "stdout",
     "output_type": "stream",
     "text": [
      "test - loss: 2.3011464119; accuracy: 0.1175\n",
      "training - loss: 2.29653310776; accuracy: 0.375\n",
      "\n",
      "\n",
      "test - loss: 2.16624124527; accuracy: 0.8075\n",
      "training - loss: 2.15955662727; accuracy: 0.77\n",
      "\n",
      "\n",
      "test - loss: 2.1407109642; accuracy: 0.8575\n",
      "training - loss: 2.13407297134; accuracy: 0.875\n",
      "\n",
      "\n",
      "test - loss: 2.13376420975; accuracy: 0.8475\n",
      "training - loss: 2.12336328506; accuracy: 0.8975\n",
      "\n",
      "\n",
      "test - loss: 2.13016819954; accuracy: 0.8375\n",
      "training - loss: 2.12257012367; accuracy: 0.85\n",
      "\n",
      "\n",
      "test - loss: 2.12854659081; accuracy: 0.855\n",
      "training - loss: 2.12019986153; accuracy: 0.87\n",
      "\n",
      "\n",
      "test - loss: 2.12638046265; accuracy: 0.8175\n",
      "training - loss: 2.12186405182; accuracy: 0.845\n",
      "\n",
      "\n",
      "test - loss: 2.12573998451; accuracy: 0.8625\n",
      "training - loss: 2.11711271286; accuracy: 0.8675\n",
      "\n",
      "\n",
      "test - loss: 2.12292426109; accuracy: 0.855\n",
      "training - loss: 2.11459846497; accuracy: 0.88\n",
      "\n",
      "\n",
      "test - loss: 2.12250351906; accuracy: 0.875\n",
      "training - loss: 2.11456887245; accuracy: 0.89\n",
      "\n",
      "\n",
      "test - loss: 2.12175880432; accuracy: 0.86\n",
      "training - loss: 2.1111122036; accuracy: 0.9\n",
      "\n",
      "\n",
      "test - loss: 2.1226305294; accuracy: 0.8775\n",
      "training - loss: 2.1155453968; accuracy: 0.9025\n",
      "\n",
      "\n",
      "test - loss: 2.12248502731; accuracy: 0.865\n",
      "training - loss: 2.11212897301; accuracy: 0.9025\n",
      "\n",
      "\n",
      "test - loss: 2.12071810722; accuracy: 0.8925\n",
      "training - loss: 2.11027060509; accuracy: 0.915\n",
      "\n",
      "\n",
      "test - loss: 2.11941914558; accuracy: 0.8875\n",
      "training - loss: 2.10906452179; accuracy: 0.95\n",
      "\n",
      "\n",
      "test - loss: 2.11832346916; accuracy: 0.895\n",
      "training - loss: 2.10894262314; accuracy: 0.95\n",
      "\n",
      "\n"
     ]
    }
   ],
   "source": [
    "def better_run(model, batchsize=16, num_epochs=2):\n",
    "\n",
    "    optimizer = chainer.optimizers.Adam() # we will use chainer's Adam implementation instead of writing our own gradient based optimization\n",
    "    optimizer.setup(model)\n",
    "    \n",
    "    stats = defaultdict(lambda: deque(maxlen=25))\n",
    "    for epoch in range(num_epochs):\n",
    "        train_iter = chainer.iterators.SerialIterator(train, batchsize, repeat=False, shuffle=True)\n",
    "        for itr, batch in enumerate(train_iter):\n",
    "            xs = np.concatenate([datum[0][None, :] for datum in batch])\n",
    "            ys = np.array([datum[1] for datum in batch])\n",
    "\n",
    "            logits = model(xs)\n",
    "\n",
    "            loss = F.softmax_cross_entropy(logits, ys)\n",
    "            model.cleargrads()\n",
    "            loss.backward()\n",
    "            optimizer.update()\n",
    "            \n",
    "            # calculate stats\n",
    "            stats[\"loss\"].append(float(loss.data))\n",
    "            stats[\"accuracy\"].append(float((logits.data.argmax(1) == ys).sum() / batchsize))\n",
    "            if itr % 300 == 0:\n",
    "                test_iter = chainer.iterators.SerialIterator(test, batchsize, repeat=False, shuffle=False)\n",
    "                t_stats = defaultdict(lambda: deque(maxlen=25))\n",
    "                for t_batch in test_iter:\n",
    "                    xs = np.concatenate([datum[0][None, :] for datum in t_batch])\n",
    "                    ys = np.array([datum[1] for datum in t_batch])\n",
    "                    \n",
    "                    logits = model(xs)\n",
    "                    \n",
    "                    loss = F.softmax_cross_entropy(logits, ys)\n",
    "                    \n",
    "                    t_stats[\"loss\"].append(float(loss.data))\n",
    "                    t_stats[\"accuracy\"].append(float((logits.data.argmax(1) == ys).sum() / batchsize))\n",
    "                \n",
    "                l = np.mean(t_stats[\"loss\"])\n",
    "                a = np.mean(t_stats[\"accuracy\"])\n",
    "                print('test - loss: %s; accuracy: %s' % (l, a))\n",
    "                print('training - ' + \"; \".join(\"%s: %s\" % (k, np.mean(vs)) for k, vs in stats.items()))\n",
    "                print('\\n')\n",
    "                \n",
    "\n",
    "better_run(MLP(200, 10))"
   ]
  },
  {
   "cell_type": "markdown",
   "metadata": {},
   "source": [
    "Try different variants!\n",
    "\n",
    "- Does using a ConvNet improve performance (reduce overfitting?)\n",
    "- Try changing the learning rate and observe the effect\n",
    "- Does the model train if you give it correlated gradients? (consecutively sample many batches of \"1\", then many batches of \"2\", ... etc"
   ]
  }
 ],
 "metadata": {
  "kernelspec": {
   "display_name": "Python 3",
   "language": "python",
   "name": "python3"
  },
  "language_info": {
   "codemirror_mode": {
    "name": "ipython",
    "version": 3
   },
   "file_extension": ".py",
   "mimetype": "text/x-python",
   "name": "python",
   "nbconvert_exporter": "python",
   "pygments_lexer": "ipython3",
   "version": "3.6.8"
  }
 },
 "nbformat": 4,
 "nbformat_minor": 1
}
